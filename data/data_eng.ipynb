{
 "cells": [
  {
   "cell_type": "code",
   "execution_count": 1,
   "id": "2ab2fdcc",
   "metadata": {},
   "outputs": [
    {
     "name": "stdout",
     "output_type": "stream",
     "text": [
      "Collecting pandas\n",
      "  Downloading pandas-2.3.3-cp312-cp312-macosx_10_13_x86_64.whl.metadata (91 kB)\n",
      "Collecting numpy>=1.26.0 (from pandas)\n",
      "  Downloading numpy-2.3.3-cp312-cp312-macosx_14_0_x86_64.whl.metadata (62 kB)\n",
      "Requirement already satisfied: python-dateutil>=2.8.2 in /Users/akhildevarasetty/Desktop/SpaceApps2025-ReturnofthisOneGuy/.venv/lib/python3.12/site-packages (from pandas) (2.9.0.post0)\n",
      "Collecting pytz>=2020.1 (from pandas)\n",
      "  Downloading pytz-2025.2-py2.py3-none-any.whl.metadata (22 kB)\n",
      "Collecting tzdata>=2022.7 (from pandas)\n",
      "  Downloading tzdata-2025.2-py2.py3-none-any.whl.metadata (1.4 kB)\n",
      "Requirement already satisfied: six>=1.5 in /Users/akhildevarasetty/Desktop/SpaceApps2025-ReturnofthisOneGuy/.venv/lib/python3.12/site-packages (from python-dateutil>=2.8.2->pandas) (1.17.0)\n",
      "Downloading pandas-2.3.3-cp312-cp312-macosx_10_13_x86_64.whl (11.6 MB)\n",
      "\u001b[2K   \u001b[90m━━━━━━━━━━━━━━━━━━━━━━━━━━━━━━━━━━━━━━━━\u001b[0m \u001b[32m11.6/11.6 MB\u001b[0m \u001b[31m37.8 MB/s\u001b[0m  \u001b[33m0:00:00\u001b[0meta \u001b[36m0:00:01\u001b[0m\n",
      "\u001b[?25hDownloading numpy-2.3.3-cp312-cp312-macosx_14_0_x86_64.whl (6.6 MB)\n",
      "\u001b[2K   \u001b[90m━━━━━━━━━━━━━━━━━━━━━━━━━━━━━━━━━━━━━━━━\u001b[0m \u001b[32m6.6/6.6 MB\u001b[0m \u001b[31m38.3 MB/s\u001b[0m  \u001b[33m0:00:00\u001b[0m\n",
      "\u001b[?25hDownloading pytz-2025.2-py2.py3-none-any.whl (509 kB)\n",
      "Downloading tzdata-2025.2-py2.py3-none-any.whl (347 kB)\n",
      "Installing collected packages: pytz, tzdata, numpy, pandas\n",
      "\u001b[2K   \u001b[90m━━━━━━━━━━━━━━━━━━━━━━━━━━━━━━━━━━━━━━━━\u001b[0m \u001b[32m4/4\u001b[0m [pandas]2m3/4\u001b[0m [pandas]\n",
      "\u001b[1A\u001b[2KSuccessfully installed numpy-2.3.3 pandas-2.3.3 pytz-2025.2 tzdata-2025.2\n",
      "Note: you may need to restart the kernel to use updated packages.\n"
     ]
    }
   ],
   "source": [
    "%pip install pandas "
   ]
  },
  {
   "cell_type": "code",
   "execution_count": 3,
   "id": "b368393d",
   "metadata": {},
   "outputs": [],
   "source": [
    "import pandas as pd"
   ]
  },
  {
   "cell_type": "code",
   "execution_count": 4,
   "id": "b5c2f02a",
   "metadata": {},
   "outputs": [
    {
     "name": "stdout",
     "output_type": "stream",
     "text": [
      "✅ Kepler shape: (9564, 49)\n",
      "✅ TESS shape: (7703, 65)\n",
      "\n"
     ]
    }
   ],
   "source": [
    "kepler_df = pd.read_csv(\"cumulative_2025.10.04_14.02.58.csv\", low_memory=False)\n",
    "tess_df = pd.read_csv(\"TOI_2025.10.04_14.33.22.csv\", low_memory=False)\n",
    "\n",
    "print(f\"✅ Kepler shape: {kepler_df.shape}\")\n",
    "print(f\"✅ TESS shape: {tess_df.shape}\\n\")"
   ]
  },
  {
   "cell_type": "code",
   "execution_count": 5,
   "id": "d8437e8f",
   "metadata": {},
   "outputs": [],
   "source": [
    "kepler_cols = {\n",
    "    'kepid': 'id',\n",
    "    'koi_disposition': 'disposition',\n",
    "    'koi_period': 'orbital_period_days',\n",
    "    'koi_duration': 'transit_duration_hours',\n",
    "    'koi_depth': 'transit_depth_ppm',\n",
    "    'koi_prad': 'planet_radius_re',\n",
    "    'koi_teq': 'equilibrium_temp_k',\n",
    "    'koi_insol': 'insolation_flux_earth',\n",
    "    'koi_model_snr': 'model_snr',\n",
    "    'koi_steff': 'stellar_teff_k',\n",
    "    'koi_srad': 'stellar_radius_re',\n",
    "    'koi_kepmag': 'apparent_mag',\n",
    "    'ra': 'ra',\n",
    "    'dec': 'dec'\n",
    "}\n",
    "\n",
    "kepler_df = kepler_df[list(kepler_cols.keys())].rename(columns=kepler_cols)\n",
    "kepler_df[\"mission\"] = \"Kepler\""
   ]
  },
  {
   "cell_type": "code",
   "execution_count": 19,
   "id": "e38134f7",
   "metadata": {},
   "outputs": [
    {
     "name": "stdout",
     "output_type": "stream",
     "text": [
      "Kepler disposition values before filtering:\n",
      "disposition\n",
      "FALSE POSITIVE    4839\n",
      "CONFIRMED         2746\n",
      "Name: count, dtype: int64\n",
      "\n",
      "Kepler data after filtering (excluding candidates): 7585 samples\n",
      "Kepler disposition breakdown:\n",
      "disposition\n",
      "FALSE POSITIVE    4839\n",
      "CONFIRMED         2746\n",
      "Name: count, dtype: int64\n"
     ]
    }
   ],
   "source": [
    "# Filter Kepler data - exclude CANDIDATE, only keep CONFIRMED and FALSE POSITIVE\n",
    "print(\"Kepler disposition values before filtering:\")\n",
    "print(kepler_df[\"disposition\"].value_counts())\n",
    "\n",
    "kepler_df = kepler_df[kepler_df[\"disposition\"].isin([\"CONFIRMED\", \"FALSE POSITIVE\"])]\n",
    "kepler_df[\"label\"] = kepler_df[\"disposition\"].map({\"CONFIRMED\": 1, \"FALSE POSITIVE\": 0})\n",
    "\n",
    "print(f\"\\nKepler data after filtering (excluding candidates): {len(kepler_df)} samples\")\n",
    "print(\"Kepler disposition breakdown:\")\n",
    "print(kepler_df[\"disposition\"].value_counts())"
   ]
  },
  {
   "cell_type": "code",
   "execution_count": 15,
   "id": "017d6e48",
   "metadata": {},
   "outputs": [
    {
     "name": "stdout",
     "output_type": "stream",
     "text": [
      "Available TESS columns: ['toi', 'tfopwg_disp', 'pl_orbper', 'pl_trandurh', 'pl_trandep', 'pl_rade', 'pl_eqt', 'pl_insol', 'st_tmag', 'st_teff', 'st_rad', 'ra', 'dec']\n",
      "TESS data shape after column selection: (7703, 14)\n",
      "TESS disposition values: disposition\n",
      "PC     4679\n",
      "FP     1197\n",
      "CP      684\n",
      "KP      583\n",
      "APC     462\n",
      "FA       98\n",
      "Name: count, dtype: int64\n"
     ]
    }
   ],
   "source": [
    "# Re-read TESS data and process it correctly\n",
    "tess_df = pd.read_csv(\"TOI_2025.10.04_14.33.22.csv\", low_memory=False)\n",
    "\n",
    "tess_cols = {\n",
    "    'toi': 'id',\n",
    "    'tfopwg_disp': 'disposition',\n",
    "    'pl_orbper': 'orbital_period_days',\n",
    "    'pl_trandurh': 'transit_duration_hours',\n",
    "    'pl_trandep': 'transit_depth_ppm',\n",
    "    'pl_rade': 'planet_radius_re',\n",
    "    'pl_eqt': 'equilibrium_temp_k',\n",
    "    'pl_insol': 'insolation_flux_earth',\n",
    "    'st_tmag': 'apparent_mag',\n",
    "    'st_teff': 'stellar_teff_k',\n",
    "    'st_rad': 'stellar_radius_re',\n",
    "    'ra': 'ra',\n",
    "    'dec': 'dec'\n",
    "}\n",
    "\n",
    "# Check which columns exist and select only those\n",
    "available_cols = [col for col in tess_cols.keys() if col in tess_df.columns]\n",
    "print(f\"Available TESS columns: {available_cols}\")\n",
    "\n",
    "tess_df = tess_df[available_cols].rename(columns=tess_cols)\n",
    "tess_df[\"mission\"] = \"TESS\"\n",
    "\n",
    "print(f\"TESS data shape after column selection: {tess_df.shape}\")\n",
    "print(f\"TESS disposition values: {tess_df['disposition'].value_counts()}\")"
   ]
  },
  {
   "cell_type": "code",
   "execution_count": 21,
   "id": "d107016e",
   "metadata": {},
   "outputs": [
    {
     "name": "stdout",
     "output_type": "stream",
     "text": [
      "TESS data before filtering: 7703 samples\n",
      "Original disposition values:\n",
      "disposition\n",
      "PC     4679\n",
      "FP     1197\n",
      "CP      684\n",
      "KP      583\n",
      "APC     462\n",
      "FA       98\n",
      "Name: count, dtype: int64\n",
      "\n",
      "After mapping (PC becomes NaN and is excluded):\n",
      "disposition\n",
      "FALSE POSITIVE    1757\n",
      "CONFIRMED         1267\n",
      "Name: count, dtype: int64\n",
      "\n",
      "TESS data after filtering (excluding 4679 PC candidates): 3024 samples\n",
      "Final TESS disposition breakdown:\n",
      "disposition\n",
      "FALSE POSITIVE    1757\n",
      "CONFIRMED         1267\n",
      "Name: count, dtype: int64\n"
     ]
    }
   ],
   "source": [
    "# Re-read TESS data fresh to avoid previous processing issues\n",
    "tess_df = pd.read_csv(\"TOI_2025.10.04_14.33.22.csv\", low_memory=False)\n",
    "\n",
    "# Apply column selection and renaming again\n",
    "tess_cols = {\n",
    "    'toi': 'id',\n",
    "    'tfopwg_disp': 'disposition',\n",
    "    'pl_orbper': 'orbital_period_days',\n",
    "    'pl_trandurh': 'transit_duration_hours',\n",
    "    'pl_trandep': 'transit_depth_ppm',\n",
    "    'pl_rade': 'planet_radius_re',\n",
    "    'pl_eqt': 'equilibrium_temp_k',\n",
    "    'pl_insol': 'insolation_flux_earth',\n",
    "    'st_tmag': 'apparent_mag',\n",
    "    'st_teff': 'stellar_teff_k',\n",
    "    'st_rad': 'stellar_radius_re',\n",
    "    'ra': 'ra',\n",
    "    'dec': 'dec'\n",
    "}\n",
    "\n",
    "available_cols = [col for col in tess_cols.keys() if col in tess_df.columns]\n",
    "tess_df = tess_df[available_cols].rename(columns=tess_cols)\n",
    "tess_df[\"mission\"] = \"TESS\"\n",
    "\n",
    "# Map TESS disposition codes to standard labels\n",
    "# CP = Confirmed Planet, KP = Known Planet -> CONFIRMED (1)\n",
    "# FP = False Positive, FA = False Alarm, APC = Astrophysical False Positive -> FALSE POSITIVE (0)\n",
    "# PC = Planet Candidate -> EXCLUDE (we're ignoring candidates)\n",
    "\n",
    "print(f\"TESS data before filtering: {len(tess_df)} samples\")\n",
    "print(\"Original disposition values:\")\n",
    "print(tess_df['disposition'].value_counts())\n",
    "\n",
    "tess_disposition_mapping = {\n",
    "    'CP': 'CONFIRMED',     # Confirmed Planet\n",
    "    'KP': 'CONFIRMED',     # Known Planet  \n",
    "    'FP': 'FALSE POSITIVE', # False Positive\n",
    "    'FA': 'FALSE POSITIVE', # False Alarm\n",
    "    'APC': 'FALSE POSITIVE' # Astrophysical False Positive Candidate\n",
    "    # Note: PC (Planet Candidate) is intentionally excluded from mapping\n",
    "}\n",
    "\n",
    "# Map the disposition values (PC will become NaN and be filtered out)\n",
    "tess_df['disposition'] = tess_df['disposition'].map(tess_disposition_mapping)\n",
    "\n",
    "print(f\"\\nAfter mapping (PC becomes NaN and is excluded):\")\n",
    "print(tess_df['disposition'].value_counts())\n",
    "\n",
    "# Filter out NaN values (which were the PC candidates) and keep only mapped values\n",
    "tess_df = tess_df[tess_df[\"disposition\"].notna()]\n",
    "tess_df[\"label\"] = tess_df[\"disposition\"].map({\"CONFIRMED\": 1, \"FALSE POSITIVE\": 0})\n",
    "\n",
    "print(f\"\\nTESS data after filtering (excluding {4679} PC candidates): {len(tess_df)} samples\")\n",
    "print(\"Final TESS disposition breakdown:\")\n",
    "print(tess_df['disposition'].value_counts())"
   ]
  },
  {
   "cell_type": "code",
   "execution_count": 22,
   "id": "b2c88be0",
   "metadata": {},
   "outputs": [
    {
     "name": "stdout",
     "output_type": "stream",
     "text": [
      "✅ Combined dataset shape: (10609, 15)\n",
      "Mission breakdown:\n",
      " mission\n",
      "Kepler    7585\n",
      "TESS      3024\n",
      "Name: count, dtype: int64 \n",
      "\n"
     ]
    },
    {
     "data": {
      "text/html": [
       "<div>\n",
       "<style scoped>\n",
       "    .dataframe tbody tr th:only-of-type {\n",
       "        vertical-align: middle;\n",
       "    }\n",
       "\n",
       "    .dataframe tbody tr th {\n",
       "        vertical-align: top;\n",
       "    }\n",
       "\n",
       "    .dataframe thead th {\n",
       "        text-align: right;\n",
       "    }\n",
       "</style>\n",
       "<table border=\"1\" class=\"dataframe\">\n",
       "  <thead>\n",
       "    <tr style=\"text-align: right;\">\n",
       "      <th></th>\n",
       "      <th>id</th>\n",
       "      <th>mission</th>\n",
       "      <th>disposition</th>\n",
       "      <th>label</th>\n",
       "      <th>orbital_period_days</th>\n",
       "      <th>transit_duration_hours</th>\n",
       "      <th>transit_depth_ppm</th>\n",
       "      <th>planet_radius_re</th>\n",
       "      <th>equilibrium_temp_k</th>\n",
       "      <th>insolation_flux_earth</th>\n",
       "      <th>stellar_teff_k</th>\n",
       "      <th>stellar_radius_re</th>\n",
       "      <th>apparent_mag</th>\n",
       "      <th>ra</th>\n",
       "      <th>dec</th>\n",
       "    </tr>\n",
       "  </thead>\n",
       "  <tbody>\n",
       "    <tr>\n",
       "      <th>0</th>\n",
       "      <td>10797460.0</td>\n",
       "      <td>Kepler</td>\n",
       "      <td>CONFIRMED</td>\n",
       "      <td>1</td>\n",
       "      <td>9.488036</td>\n",
       "      <td>2.95750</td>\n",
       "      <td>615.8</td>\n",
       "      <td>2.26</td>\n",
       "      <td>793.0</td>\n",
       "      <td>93.59</td>\n",
       "      <td>5455.0</td>\n",
       "      <td>0.927</td>\n",
       "      <td>15.347</td>\n",
       "      <td>291.93423</td>\n",
       "      <td>48.141651</td>\n",
       "    </tr>\n",
       "    <tr>\n",
       "      <th>1</th>\n",
       "      <td>10797460.0</td>\n",
       "      <td>Kepler</td>\n",
       "      <td>CONFIRMED</td>\n",
       "      <td>1</td>\n",
       "      <td>54.418383</td>\n",
       "      <td>4.50700</td>\n",
       "      <td>874.8</td>\n",
       "      <td>2.83</td>\n",
       "      <td>443.0</td>\n",
       "      <td>9.11</td>\n",
       "      <td>5455.0</td>\n",
       "      <td>0.927</td>\n",
       "      <td>15.347</td>\n",
       "      <td>291.93423</td>\n",
       "      <td>48.141651</td>\n",
       "    </tr>\n",
       "    <tr>\n",
       "      <th>2</th>\n",
       "      <td>10848459.0</td>\n",
       "      <td>Kepler</td>\n",
       "      <td>FALSE POSITIVE</td>\n",
       "      <td>0</td>\n",
       "      <td>1.736952</td>\n",
       "      <td>2.40641</td>\n",
       "      <td>8079.2</td>\n",
       "      <td>33.46</td>\n",
       "      <td>1395.0</td>\n",
       "      <td>891.96</td>\n",
       "      <td>5805.0</td>\n",
       "      <td>0.791</td>\n",
       "      <td>15.597</td>\n",
       "      <td>285.53461</td>\n",
       "      <td>48.285210</td>\n",
       "    </tr>\n",
       "    <tr>\n",
       "      <th>3</th>\n",
       "      <td>10854555.0</td>\n",
       "      <td>Kepler</td>\n",
       "      <td>CONFIRMED</td>\n",
       "      <td>1</td>\n",
       "      <td>2.525592</td>\n",
       "      <td>1.65450</td>\n",
       "      <td>603.3</td>\n",
       "      <td>2.75</td>\n",
       "      <td>1406.0</td>\n",
       "      <td>926.16</td>\n",
       "      <td>6031.0</td>\n",
       "      <td>1.046</td>\n",
       "      <td>15.509</td>\n",
       "      <td>288.75488</td>\n",
       "      <td>48.226200</td>\n",
       "    </tr>\n",
       "    <tr>\n",
       "      <th>4</th>\n",
       "      <td>10872983.0</td>\n",
       "      <td>Kepler</td>\n",
       "      <td>CONFIRMED</td>\n",
       "      <td>1</td>\n",
       "      <td>11.094321</td>\n",
       "      <td>4.59450</td>\n",
       "      <td>1517.5</td>\n",
       "      <td>3.90</td>\n",
       "      <td>835.0</td>\n",
       "      <td>114.81</td>\n",
       "      <td>6046.0</td>\n",
       "      <td>0.972</td>\n",
       "      <td>15.714</td>\n",
       "      <td>296.28613</td>\n",
       "      <td>48.224670</td>\n",
       "    </tr>\n",
       "  </tbody>\n",
       "</table>\n",
       "</div>"
      ],
      "text/plain": [
       "           id mission     disposition  label  orbital_period_days  \\\n",
       "0  10797460.0  Kepler       CONFIRMED      1             9.488036   \n",
       "1  10797460.0  Kepler       CONFIRMED      1            54.418383   \n",
       "2  10848459.0  Kepler  FALSE POSITIVE      0             1.736952   \n",
       "3  10854555.0  Kepler       CONFIRMED      1             2.525592   \n",
       "4  10872983.0  Kepler       CONFIRMED      1            11.094321   \n",
       "\n",
       "   transit_duration_hours  transit_depth_ppm  planet_radius_re  \\\n",
       "0                 2.95750              615.8              2.26   \n",
       "1                 4.50700              874.8              2.83   \n",
       "2                 2.40641             8079.2             33.46   \n",
       "3                 1.65450              603.3              2.75   \n",
       "4                 4.59450             1517.5              3.90   \n",
       "\n",
       "   equilibrium_temp_k  insolation_flux_earth  stellar_teff_k  \\\n",
       "0               793.0                  93.59          5455.0   \n",
       "1               443.0                   9.11          5455.0   \n",
       "2              1395.0                 891.96          5805.0   \n",
       "3              1406.0                 926.16          6031.0   \n",
       "4               835.0                 114.81          6046.0   \n",
       "\n",
       "   stellar_radius_re  apparent_mag         ra        dec  \n",
       "0              0.927        15.347  291.93423  48.141651  \n",
       "1              0.927        15.347  291.93423  48.141651  \n",
       "2              0.791        15.597  285.53461  48.285210  \n",
       "3              1.046        15.509  288.75488  48.226200  \n",
       "4              0.972        15.714  296.28613  48.224670  "
      ]
     },
     "execution_count": 22,
     "metadata": {},
     "output_type": "execute_result"
    }
   ],
   "source": [
    "common_cols = [\n",
    "    \"id\", \"mission\", \"disposition\", \"label\",\n",
    "    \"orbital_period_days\", \"transit_duration_hours\", \"transit_depth_ppm\",\n",
    "    \"planet_radius_re\", \"equilibrium_temp_k\", \"insolation_flux_earth\",\n",
    "    \"stellar_teff_k\", \"stellar_radius_re\", \"apparent_mag\", \"ra\", \"dec\"\n",
    "]\n",
    "\n",
    "kepler_aligned = kepler_df[common_cols]\n",
    "tess_aligned = tess_df[common_cols]\n",
    "\n",
    "combined_df = pd.concat([kepler_aligned, tess_aligned], ignore_index=True)\n",
    "\n",
    "print(f\"✅ Combined dataset shape: {combined_df.shape}\")\n",
    "print(\"Mission breakdown:\\n\", combined_df[\"mission\"].value_counts(), \"\\n\")\n",
    "\n",
    "combined_df.head()"
   ]
  },
  {
   "cell_type": "code",
   "execution_count": 24,
   "id": "587b4c8e",
   "metadata": {},
   "outputs": [
    {
     "name": "stdout",
     "output_type": "stream",
     "text": [
      "📦 Saved as combined_kepler_tess_exoplanets.csv\n"
     ]
    }
   ],
   "source": [
    "combined_df.to_csv(\"combined_kepler_tess_exoplanets.csv\", index=False)\n",
    "print(\"📦 Saved as combined_kepler_tess_exoplanets.csv\")"
   ]
  },
  {
   "cell_type": "code",
   "execution_count": 23,
   "id": "b97579e0",
   "metadata": {},
   "outputs": [
    {
     "name": "stdout",
     "output_type": "stream",
     "text": [
      "Disposition breakdown:\n",
      "disposition\n",
      "FALSE POSITIVE    6596\n",
      "CONFIRMED         4013\n",
      "Name: count, dtype: int64\n",
      "\n",
      "Confirmed: 4013\n",
      "False Positives: 6596\n",
      "\n",
      "Confirmed: 37.8%\n",
      "False Positives: 62.2%\n"
     ]
    }
   ],
   "source": [
    "# Count and display the number of confirmed vs false positive exoplanets\n",
    "print(\"Disposition breakdown:\")\n",
    "disposition_counts = combined_df[\"disposition\"].value_counts()\n",
    "print(disposition_counts)\n",
    "print(f\"\\nConfirmed: {disposition_counts.get('CONFIRMED', 0)}\")\n",
    "print(f\"False Positives: {disposition_counts.get('FALSE POSITIVE', 0)}\")\n",
    "\n",
    "# Calculate percentage\n",
    "total = disposition_counts.sum()\n",
    "print(f\"\\nConfirmed: {disposition_counts.get('CONFIRMED', 0) / total:.1%}\")\n",
    "print(f\"False Positives: {disposition_counts.get('FALSE POSITIVE', 0) / total:.1%}\")\n",
    "\n"
   ]
  },
  {
   "cell_type": "code",
   "execution_count": null,
   "id": "2e54271c",
   "metadata": {
    "vscode": {
     "languageId": "r"
    }
   },
   "outputs": [],
   "source": []
  },
  {
   "cell_type": "code",
   "execution_count": 27,
   "id": "19ea90ab",
   "metadata": {},
   "outputs": [
    {
     "data": {
      "image/png": "[encoded data removed]",
      "text/plain": [
       "<Figure size 1000x600 with 1 Axes>"
      ]
     },
     "metadata": {},
     "output_type": "display_data"
    }
   ],
   "source": [
    "# Visualize the distribution\n",
    "import matplotlib.pyplot as plt\n",
    "\n",
    "plt.figure(figsize=(10, 6))\n",
    "combined_df[\"disposition\"].value_counts().plot(kind=\"bar\", color=[\"green\", \"red\"])\n",
    "plt.title(\"Distribution of Exoplanet Dispositions\")\n",
    "plt.ylabel(\"Count\")\n",
    "plt.xticks(rotation=0)\n",
    "plt.tight_layout()\n",
    "plt.show()"
   ]
  },
  {
   "cell_type": "code",
   "execution_count": 26,
   "id": "74ae96bd",
   "metadata": {},
   "outputs": [
    {
     "name": "stdout",
     "output_type": "stream",
     "text": [
      "Collecting matplotlib\n",
      "  Downloading matplotlib-3.10.6-cp312-cp312-macosx_10_13_x86_64.whl.metadata (11 kB)\n",
      "Collecting contourpy>=1.0.1 (from matplotlib)\n",
      "  Downloading contourpy-1.3.3-cp312-cp312-macosx_10_13_x86_64.whl.metadata (5.5 kB)\n",
      "Collecting cycler>=0.10 (from matplotlib)\n",
      "  Downloading cycler-0.12.1-py3-none-any.whl.metadata (3.8 kB)\n",
      "Collecting fonttools>=4.22.0 (from matplotlib)\n",
      "  Downloading fonttools-4.60.1-cp312-cp312-macosx_10_13_x86_64.whl.metadata (112 kB)\n",
      "Collecting kiwisolver>=1.3.1 (from matplotlib)\n",
      "  Downloading kiwisolver-1.4.9-cp312-cp312-macosx_10_13_x86_64.whl.metadata (6.3 kB)\n",
      "Requirement already satisfied: numpy>=1.23 in /Users/akhildevarasetty/Desktop/SpaceApps2025-ReturnofthisOneGuy/.venv/lib/python3.12/site-packages (from matplotlib) (2.3.3)\n",
      "Requirement already satisfied: packaging>=20.0 in /Users/akhildevarasetty/Desktop/SpaceApps2025-ReturnofthisOneGuy/.venv/lib/python3.12/site-packages (from matplotlib) (25.0)\n",
      "Collecting pillow>=8 (from matplotlib)\n",
      "  Downloading pillow-11.3.0-cp312-cp312-macosx_10_13_x86_64.whl.metadata (9.0 kB)\n",
      "Collecting pyparsing>=2.3.1 (from matplotlib)\n",
      "  Downloading pyparsing-3.2.5-py3-none-any.whl.metadata (5.0 kB)\n",
      "Requirement already satisfied: python-dateutil>=2.7 in /Users/akhildevarasetty/Desktop/SpaceApps2025-ReturnofthisOneGuy/.venv/lib/python3.12/site-packages (from matplotlib) (2.9.0.post0)\n",
      "Requirement already satisfied: six>=1.5 in /Users/akhildevarasetty/Desktop/SpaceApps2025-ReturnofthisOneGuy/.venv/lib/python3.12/site-packages (from python-dateutil>=2.7->matplotlib) (1.17.0)\n",
      "Downloading matplotlib-3.10.6-cp312-cp312-macosx_10_13_x86_64.whl (8.3 MB)\n",
      "\u001b[2K   \u001b[90m━━━━━━━━━━━━━━━━━━━━━━━━━━━━━━━━━━━━━━━━\u001b[0m \u001b[32m8.3/8.3 MB\u001b[0m \u001b[31m32.2 MB/s\u001b[0m  \u001b[33m0:00:00\u001b[0m eta \u001b[36m0:00:01\u001b[0m\n",
      "\u001b[?25hDownloading contourpy-1.3.3-cp312-cp312-macosx_10_13_x86_64.whl (293 kB)\n",
      "Downloading cycler-0.12.1-py3-none-any.whl (8.3 kB)\n",
      "Downloading fonttools-4.60.1-cp312-cp312-macosx_10_13_x86_64.whl (2.4 MB)\n",
      "\u001b[2K   \u001b[90m━━━━━━━━━━━━━━━━━━━━━━━━━━━━━━━━━━━━━━━━\u001b[0m \u001b[32m2.4/2.4 MB\u001b[0m \u001b[31m35.3 MB/s\u001b[0m  \u001b[33m0:00:00\u001b[0m\n",
      "\u001b[?25hDownloading kiwisolver-1.4.9-cp312-cp312-macosx_10_13_x86_64.whl (66 kB)\n",
      "Downloading pillow-11.3.0-cp312-cp312-macosx_10_13_x86_64.whl (5.3 MB)\n",
      "\u001b[2K   \u001b[90m━━━━━━━━━━━━━━━━━━━━━━━━━━━━━━━━━━━━━━━━\u001b[0m \u001b[32m5.3/5.3 MB\u001b[0m \u001b[31m40.1 MB/s\u001b[0m  \u001b[33m0:00:00\u001b[0m\n",
      "\u001b[?25hDownloading pyparsing-3.2.5-py3-none-any.whl (113 kB)\n",
      "Installing collected packages: pyparsing, pillow, kiwisolver, fonttools, cycler, contourpy, matplotlib\n",
      "\u001b[2K   \u001b[90m━━━━━━━━━━━━━━━━━━━━━━━━━━━━━━━━━━━━━━━━\u001b[0m \u001b[32m7/7\u001b[0m [matplotlib]7\u001b[0m [matplotlib]\n",
      "\u001b[1A\u001b[2KSuccessfully installed contourpy-1.3.3 cycler-0.12.1 fonttools-4.60.1 kiwisolver-1.4.9 matplotlib-3.10.6 pillow-11.3.0 pyparsing-3.2.5\n",
      "Note: you may need to restart the kernel to use updated packages.\n"
     ]
    }
   ],
   "source": [
    "%pip install matplotlib"
   ]
  }
 ],
 "metadata": {
  "kernelspec": {
   "display_name": ".venv",
   "language": "python",
   "name": "python3"
  },
  "language_info": {
   "codemirror_mode": {
    "name": "ipython",
    "version": 3
   },
   "file_extension": ".py",
   "mimetype": "text/x-python",
   "name": "python",
   "nbconvert_exporter": "python",
   "pygments_lexer": "ipython3",
   "version": "3.12.4"
  }
 },
 "nbformat": 4,
 "nbformat_minor": 5
}
